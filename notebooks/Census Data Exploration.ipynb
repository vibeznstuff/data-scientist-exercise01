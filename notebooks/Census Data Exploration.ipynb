{
 "cells": [
  {
   "cell_type": "code",
   "execution_count": 2,
   "metadata": {},
   "outputs": [
    {
     "name": "stdout",
     "output_type": "stream",
     "text": [
      "Numeric Vars:  \n",
      "['age', 'education_num', 'capital_gain', 'capital_loss', 'hours_week', 'over_50k']\n",
      "\n",
      "\n",
      "Categorical Vars:  \n",
      "['workclass', 'education_level', 'marital_status', 'occupation', 'relationship', 'race', 'sex', 'country', 'over_50_bool']\n"
     ]
    }
   ],
   "source": [
    "import pandas as pd, numpy as np\n",
    "import matplotlib.pyplot as plt\n",
    "import seaborn as sns\n",
    "\n",
    "#Import flattened CSV census data into dataframe\n",
    "df = pd.read_csv('../output/flattened_census_data.csv')\n",
    "\n",
    "#Create new helpful features\n",
    "def cat_target(row):\n",
    "    if row['over_50k'] == 0:\n",
    "        return 'False'\n",
    "    elif row['over_50k'] ==1:\n",
    "        return 'True' \n",
    "    else:\n",
    "        return np.NaN\n",
    "\n",
    "df['over_50_bool'] = df.apply(cat_target, axis=1)\n",
    "\n",
    "#Sort out numeric and categorical fields for processing\n",
    "numeric_vars = list(df._get_numeric_data().columns)\n",
    "numeric_vars = [field for field in numeric_vars if field != 'respondent_id']\n",
    "cat_vars = [col for col in df.columns if col not in numeric_vars and col != 'respondent_id']\n",
    "\n",
    "print(\"Numeric Vars:  \")\n",
    "print(numeric_vars)\n",
    "print(\"\\n\")\n",
    "print(\"Categorical Vars:  \")\n",
    "print(cat_vars)\n"
   ]
  },
  {
   "cell_type": "code",
   "execution_count": null,
   "metadata": {},
   "outputs": [],
   "source": [
    "#Create Data Exploration Charts\n",
    "i=0\n",
    "f, ax = plt.subplots(figsize=(12,12))\n",
    "rows,cols = df.shape\n",
    "\n",
    "#Create one-way frequencies for categorical vars\n",
    "for cat_var in cat_vars:\n",
    "    plt.title(cat_var+' frequencies')\n",
    "    sns.countplot(y=cat_var, data=df, color=\"c\")\n",
    "    plt.savefig('../output/figs/freqs/'+cat_var+'_freqs.png', bbox_inches='tight')\n",
    "    \n",
    "#Display by category the likelihood of a respondent earning over 50k\n",
    "for cat_var in cat_vars:\n",
    "    plt.title(cat_var+' frequencies')\n",
    "    sns.barplot(x=cat_var, y=\"over_50k\", data=df)\n",
    "    plt.savefig('../output/figs/by_over50k/'+cat_var+'_by_over50k.png', bbox_inches='tight')\n",
    "    \n",
    "#Create histograms for numeric vars\n",
    "for numeric_var in numeric_vars:\n",
    "    plt.title(numeric_var+' histogram')\n",
    "    sns.distplot(df[numeric_var])\n",
    "    plt.savefig('../output/figs/histograms/'+numeric_var+'_hist.png', bbox_inches='tight')\n",
    "    \n"
   ]
  },
  {
   "cell_type": "code",
   "execution_count": 1,
   "metadata": {},
   "outputs": [
    {
     "ename": "NameError",
     "evalue": "name 'sns' is not defined",
     "output_type": "error",
     "traceback": [
      "\u001b[1;31m---------------------------------------------------------------------------\u001b[0m",
      "\u001b[1;31mNameError\u001b[0m                                 Traceback (most recent call last)",
      "\u001b[1;32m<ipython-input-1-6947e31ff604>\u001b[0m in \u001b[0;36m<module>\u001b[1;34m()\u001b[0m\n\u001b[1;32m----> 1\u001b[1;33m \u001b[0msns\u001b[0m\u001b[1;33m.\u001b[0m\u001b[0mbarplot\u001b[0m\u001b[1;33m(\u001b[0m\u001b[0mx\u001b[0m\u001b[1;33m=\u001b[0m\u001b[1;34m\"workclass\"\u001b[0m\u001b[1;33m,\u001b[0m \u001b[0my\u001b[0m\u001b[1;33m=\u001b[0m\u001b[1;34m\"over_50k\"\u001b[0m\u001b[1;33m,\u001b[0m \u001b[0mdata\u001b[0m\u001b[1;33m=\u001b[0m\u001b[0mdf\u001b[0m\u001b[1;33m)\u001b[0m\u001b[1;33m\u001b[0m\u001b[0m\n\u001b[0m",
      "\u001b[1;31mNameError\u001b[0m: name 'sns' is not defined"
     ]
    }
   ],
   "source": [
    "sns.barplot(x=\"workclass\", y=\"over_50k\", data=df)"
   ]
  },
  {
   "cell_type": "code",
   "execution_count": 60,
   "metadata": {},
   "outputs": [
    {
     "data": {
      "text/plain": [
       "<matplotlib.axes._subplots.AxesSubplot at 0x7eb26d0>"
      ]
     },
     "execution_count": 60,
     "metadata": {},
     "output_type": "execute_result"
    },
    {
     "data": {
      "image/png": "[encoded data removed]",
      "text/plain": [
       "<matplotlib.figure.Figure at 0x12714770>"
      ]
     },
     "metadata": {},
     "output_type": "display_data"
    }
   ],
   "source": []
  },
  {
   "cell_type": "code",
   "execution_count": null,
   "metadata": {},
   "outputs": [],
   "source": [
    "#Create Data Exploration Charts\n",
    "i=0\n",
    "f, ax = plt.subplots(figsize=(12,12))\n",
    "rows,cols = df.shape\n",
    "    \n",
    "#Display by category the likelihood of a respondent earning over 50k\n",
    "for cat_var in cat_vars:\n",
    "    plt.title(cat_var+' frequencies')\n",
    "    sns.barplot(x=cat_var, y=\"over_50k\", data=df)\n",
    "    plt.savefig('../output/figs/by_over50k/'+cat_var+'_by_over50k.png', bbox_inches='tight')"
   ]
  },
  {
   "cell_type": "code",
   "execution_count": null,
   "metadata": {},
   "outputs": [],
   "source": []
  }
 ],
 "metadata": {
  "kernelspec": {
   "display_name": "Python 3",
   "language": "python",
   "name": "python3"
  },
  "language_info": {
   "codemirror_mode": {
    "name": "ipython",
    "version": 3
   },
   "file_extension": ".py",
   "mimetype": "text/x-python",
   "name": "python",
   "nbconvert_exporter": "python",
   "pygments_lexer": "ipython3",
   "version": "3.6.4"
  }
 },
 "nbformat": 4,
 "nbformat_minor": 2
}
